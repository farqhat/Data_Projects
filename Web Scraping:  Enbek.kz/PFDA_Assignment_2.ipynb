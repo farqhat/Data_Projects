{
 "cells": [
  {
   "cell_type": "markdown",
   "metadata": {
    "id": "cZox-1hedQIZ"
   },
   "source": [
    "##Assignment 2: <font color='3C6E71'></font>\n",
    "\n",
    "\n",
    "####Total Points: 5 points)\n",
    "\\\n",
    "\n",
    "----\n",
    "**Objective:**\n",
    "\n",
    "In this assignment, you will parse a website with a domain registered in Kazakhstan (\".kz\"), extract relevant data, and conduct detailed data preprocessing and visualization using Python libraries: Pandas, NumPy, and Seaborn.\n",
    "\n",
    "----\n",
    "\n",
    "## **Instructions:**\n",
    "\n",
    "### **1. Website Selection:**\n",
    "\n",
    "- Choose a website with a \".kz\" domain that contains structured data you can scrape (e.g., a market website, real estate listings, job listings, or product prices).\n",
    "- Ensure that the website allows scraping and has relevant data fields (such as prices, ratings, categories, etc.).\n",
    "\n",
    "### **2. Web Scraping:**\n",
    "\n",
    "- Use Python libraries such as `BeautifulSoup` and `requests` (or `Selenium` if necessary) to scrape the chosen \".kz\" website.\n",
    "- Parse the HTML and extract multiple variables (such as product names, prices, categories, ratings, etc.).\n",
    "\n",
    "### **3. Data Cleaning and Preparation:**\n",
    "\n",
    "- Perform thorough data cleaning, including handling missing values, outliers, and data type conversions.\n",
    "- Ensure that the data is standardized and formatted properly.\n",
    "- Provide a summary of the cleaning process and the rationale behind each step.\n",
    "\n",
    "### **4. Exploratory Data Analysis (EDA):**\n",
    "\n",
    "- Use Pandas and NumPy to perform a detailed exploratory data analysis (EDA).\n",
    "- Calculate descriptive statistics and identify key relationships and trends within the scraped data.\n",
    "\n",
    "### **5. Data Visualization:**\n",
    "\n",
    "- Create at least five insightful visualizations using Seaborn that effectively communicate the key findings from your analysis.\n",
    "- Use a variety of plot types such as scatter plots, histograms, box plots, and heatmaps.\n",
    "- The visualizations should be logically structured and provide meaningful insights.\n",
    "\n",
    "### **6. Comment Your Code:**\n",
    "\n",
    "- Make sure to comment on your code to explain each step clearly.\n",
    "\n",
    "---\n"
   ]
  }
 ],
 "metadata": {
  "colab": {
   "provenance": []
  },
  "kernelspec": {
   "display_name": "Python 3 (ipykernel)",
   "language": "python",
   "name": "python3"
  },
  "language_info": {
   "codemirror_mode": {
    "name": "ipython",
    "version": 3
   },
   "file_extension": ".py",
   "mimetype": "text/x-python",
   "name": "python",
   "nbconvert_exporter": "python",
   "pygments_lexer": "ipython3",
   "version": "3.12.4"
  }
 },
 "nbformat": 4,
 "nbformat_minor": 4
}
