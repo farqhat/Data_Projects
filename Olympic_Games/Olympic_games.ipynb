{
 "cells": [
  {
   "cell_type": "markdown",
   "id": "ad47eb6c",
   "metadata": {},
   "source": [
    "# Assignment 2\n",
    "Download the file `athlete_events.csv` from [here](https://drive.google.com/file/d/1B8XjyPA23Zg5-zLL02pAVU-avQeMQYJP/view?usp=sharing). The dataset has the following features:\n",
    "\n",
    "- __ID__ - Unique number for each athlete\n",
    "- __Name__ - Athlete's name\n",
    "- __Sex__ - M or F\n",
    "- __Age__ - Integer\n",
    "- __Height__ - In centimeters\n",
    "- __Weight__ - In kilograms\n",
    "- __Team__ - Team name\n",
    "- __NOC__ - National Olympic Committee 3-letter code\n",
    "- __Games__ - Year and season\n",
    "- __Year__ - Integer\n",
    "- __Season__ - Summer or Winter\n",
    "- __City__ - Host city\n",
    "- __Sport__ - Sport\n",
    "- __Event__ - Event\n",
    "- __Medal__ - Gold, Silver, Bronze, or NA"
   ]
  },
  {
   "cell_type": "code",
   "execution_count": 31,
   "id": "b8d3c4dd",
   "metadata": {},
   "outputs": [],
   "source": [
    "import pandas as pd"
   ]
  },
  {
   "cell_type": "code",
   "execution_count": 32,
   "id": "f83fc38a",
   "metadata": {},
   "outputs": [],
   "source": [
    "PATH = 'athlete_events.csv'"
   ]
  },
  {
   "cell_type": "code",
   "execution_count": 33,
   "id": "157dfd76",
   "metadata": {},
   "outputs": [
    {
     "data": {
      "text/html": [
       "<div>\n",
       "<style scoped>\n",
       "    .dataframe tbody tr th:only-of-type {\n",
       "        vertical-align: middle;\n",
       "    }\n",
       "\n",
       "    .dataframe tbody tr th {\n",
       "        vertical-align: top;\n",
       "    }\n",
       "\n",
       "    .dataframe thead th {\n",
       "        text-align: right;\n",
       "    }\n",
       "</style>\n",
       "<table border=\"1\" class=\"dataframe\">\n",
       "  <thead>\n",
       "    <tr style=\"text-align: right;\">\n",
       "      <th></th>\n",
       "      <th>ID</th>\n",
       "      <th>Name</th>\n",
       "      <th>Sex</th>\n",
       "      <th>Age</th>\n",
       "      <th>Height</th>\n",
       "      <th>Weight</th>\n",
       "      <th>Team</th>\n",
       "      <th>NOC</th>\n",
       "      <th>Games</th>\n",
       "      <th>Year</th>\n",
       "      <th>Season</th>\n",
       "      <th>City</th>\n",
       "      <th>Sport</th>\n",
       "      <th>Event</th>\n",
       "      <th>Medal</th>\n",
       "    </tr>\n",
       "  </thead>\n",
       "  <tbody>\n",
       "    <tr>\n",
       "      <th>0</th>\n",
       "      <td>1</td>\n",
       "      <td>A Dijiang</td>\n",
       "      <td>M</td>\n",
       "      <td>24.0</td>\n",
       "      <td>180.0</td>\n",
       "      <td>80.0</td>\n",
       "      <td>China</td>\n",
       "      <td>CHN</td>\n",
       "      <td>1992 Summer</td>\n",
       "      <td>1992</td>\n",
       "      <td>Summer</td>\n",
       "      <td>Barcelona</td>\n",
       "      <td>Basketball</td>\n",
       "      <td>Basketball Men's Basketball</td>\n",
       "      <td>NaN</td>\n",
       "    </tr>\n",
       "    <tr>\n",
       "      <th>1</th>\n",
       "      <td>2</td>\n",
       "      <td>A Lamusi</td>\n",
       "      <td>M</td>\n",
       "      <td>23.0</td>\n",
       "      <td>170.0</td>\n",
       "      <td>60.0</td>\n",
       "      <td>China</td>\n",
       "      <td>CHN</td>\n",
       "      <td>2012 Summer</td>\n",
       "      <td>2012</td>\n",
       "      <td>Summer</td>\n",
       "      <td>London</td>\n",
       "      <td>Judo</td>\n",
       "      <td>Judo Men's Extra-Lightweight</td>\n",
       "      <td>NaN</td>\n",
       "    </tr>\n",
       "    <tr>\n",
       "      <th>2</th>\n",
       "      <td>3</td>\n",
       "      <td>Gunnar Nielsen Aaby</td>\n",
       "      <td>M</td>\n",
       "      <td>24.0</td>\n",
       "      <td>NaN</td>\n",
       "      <td>NaN</td>\n",
       "      <td>Denmark</td>\n",
       "      <td>DEN</td>\n",
       "      <td>1920 Summer</td>\n",
       "      <td>1920</td>\n",
       "      <td>Summer</td>\n",
       "      <td>Antwerpen</td>\n",
       "      <td>Football</td>\n",
       "      <td>Football Men's Football</td>\n",
       "      <td>NaN</td>\n",
       "    </tr>\n",
       "    <tr>\n",
       "      <th>3</th>\n",
       "      <td>4</td>\n",
       "      <td>Edgar Lindenau Aabye</td>\n",
       "      <td>M</td>\n",
       "      <td>34.0</td>\n",
       "      <td>NaN</td>\n",
       "      <td>NaN</td>\n",
       "      <td>Denmark/Sweden</td>\n",
       "      <td>DEN</td>\n",
       "      <td>1900 Summer</td>\n",
       "      <td>1900</td>\n",
       "      <td>Summer</td>\n",
       "      <td>Paris</td>\n",
       "      <td>Tug-Of-War</td>\n",
       "      <td>Tug-Of-War Men's Tug-Of-War</td>\n",
       "      <td>Gold</td>\n",
       "    </tr>\n",
       "    <tr>\n",
       "      <th>4</th>\n",
       "      <td>5</td>\n",
       "      <td>Christine Jacoba Aaftink</td>\n",
       "      <td>F</td>\n",
       "      <td>21.0</td>\n",
       "      <td>185.0</td>\n",
       "      <td>82.0</td>\n",
       "      <td>Netherlands</td>\n",
       "      <td>NED</td>\n",
       "      <td>1988 Winter</td>\n",
       "      <td>1988</td>\n",
       "      <td>Winter</td>\n",
       "      <td>Calgary</td>\n",
       "      <td>Speed Skating</td>\n",
       "      <td>Speed Skating Women's 500 metres</td>\n",
       "      <td>NaN</td>\n",
       "    </tr>\n",
       "  </tbody>\n",
       "</table>\n",
       "</div>"
      ],
      "text/plain": [
       "   ID                      Name Sex   Age  Height  Weight            Team  \\\n",
       "0   1                 A Dijiang   M  24.0   180.0    80.0           China   \n",
       "1   2                  A Lamusi   M  23.0   170.0    60.0           China   \n",
       "2   3       Gunnar Nielsen Aaby   M  24.0     NaN     NaN         Denmark   \n",
       "3   4      Edgar Lindenau Aabye   M  34.0     NaN     NaN  Denmark/Sweden   \n",
       "4   5  Christine Jacoba Aaftink   F  21.0   185.0    82.0     Netherlands   \n",
       "\n",
       "   NOC        Games  Year  Season       City          Sport  \\\n",
       "0  CHN  1992 Summer  1992  Summer  Barcelona     Basketball   \n",
       "1  CHN  2012 Summer  2012  Summer     London           Judo   \n",
       "2  DEN  1920 Summer  1920  Summer  Antwerpen       Football   \n",
       "3  DEN  1900 Summer  1900  Summer      Paris     Tug-Of-War   \n",
       "4  NED  1988 Winter  1988  Winter    Calgary  Speed Skating   \n",
       "\n",
       "                              Event Medal  \n",
       "0       Basketball Men's Basketball   NaN  \n",
       "1      Judo Men's Extra-Lightweight   NaN  \n",
       "2           Football Men's Football   NaN  \n",
       "3       Tug-Of-War Men's Tug-Of-War  Gold  \n",
       "4  Speed Skating Women's 500 metres   NaN  "
      ]
     },
     "execution_count": 33,
     "metadata": {},
     "output_type": "execute_result"
    }
   ],
   "source": [
    "data = pd.read_csv(PATH)\n",
    "data.head()"
   ]
  },
  {
   "cell_type": "markdown",
   "id": "8d6d23ed",
   "metadata": {},
   "source": [
    "__1. How old were the oldest male and female participants of the 2012 Olympics?__"
   ]
  },
  {
   "cell_type": "code",
   "execution_count": 5,
   "id": "35d9f336",
   "metadata": {},
   "outputs": [
    {
     "name": "stdout",
     "output_type": "stream",
     "text": [
      "71.0 \t 57.0\n"
     ]
    }
   ],
   "source": [
    "\n",
    "twenty_twelve = data[data['Year'] == 2012]\n",
    "male = twenty_twelve[twenty_twelve['Sex'] == 'M']['Age'].max()\n",
    "female = twenty_twelve[twenty_twelve['Sex'] == 'F']['Age'].max()\n",
    "print(male,'\\t',female)"
   ]
  },
  {
   "cell_type": "markdown",
   "id": "417212d0",
   "metadata": {},
   "source": [
    "__2. What are the mean and standard deviation of height for male basketball players who participated in the 1992 Olympics? Round the answer to the first decimal.__"
   ]
  },
  {
   "cell_type": "code",
   "execution_count": 23,
   "id": "f9e9571f",
   "metadata": {},
   "outputs": [
    {
     "name": "stdout",
     "output_type": "stream",
     "text": [
      "Height    179.7\n",
      "dtype: float64\n",
      "Height    9.5\n",
      "dtype: float64\n"
     ]
    },
    {
     "name": "stderr",
     "output_type": "stream",
     "text": [
      "C:\\Users\\Фархат\\AppData\\Local\\Temp\\ipykernel_3152\\2828248963.py:1: UserWarning: Boolean Series key will be reindexed to match DataFrame index.\n",
      "  male = (data[data['Year'] == 1992][data['Sex'] == 'M'])['Height']\n"
     ]
    }
   ],
   "source": [
    "male = (data[data['Year'] == 1992][data['Sex'] == 'M'])['Height']\n",
    "print(pd.DataFrame(male).mean().round(1))\n",
    "print(pd.DataFrame(male).std().round(1))"
   ]
  },
  {
   "cell_type": "markdown",
   "id": "4edaf000",
   "metadata": {},
   "source": [
    "__3. How many times did Christine Jacoba Aaftink participate in the Olympics held in different years?__"
   ]
  },
  {
   "cell_type": "code",
   "execution_count": 18,
   "id": "164958e9",
   "metadata": {},
   "outputs": [
    {
     "name": "stdout",
     "output_type": "stream",
     "text": [
      "3\n"
     ]
    }
   ],
   "source": [
    "a = data[data['Name'] == 'Christine Jacoba Aaftink']['Year'].unique()\n",
    "e = pd.DataFrame(a).count()\n",
    "print(e[0])"
   ]
  },
  {
   "cell_type": "markdown",
   "id": "cb74a156",
   "metadata": {},
   "source": [
    "__4. Is it true that China won fewer medals than Russia at the 2012 Olympics? Do not consider NaN values in Medal column.__"
   ]
  },
  {
   "cell_type": "code",
   "execution_count": 28,
   "id": "d49056d2",
   "metadata": {},
   "outputs": [
    {
     "name": "stdout",
     "output_type": "stream",
     "text": [
      "True\n"
     ]
    }
   ],
   "source": [
    "twenty_twelve = pd.DataFrame(data[data['Year'] == 2012]).dropna(subset = ['Medal'])\n",
    "China = twenty_twelve[twenty_twelve['Team'] == 'China']\n",
    "Russia = twenty_twelve[twenty_twelve['Team'] == 'Russia']\n",
    "print(China['Medal'].count()<Russia['Medal'].count())"
   ]
  },
  {
   "cell_type": "markdown",
   "id": "4d3dc929",
   "metadata": {},
   "source": [
    "__5. What is the absolute difference between the number of unique sports at the 1984 Olympics and 2016 Olympics?__"
   ]
  },
  {
   "cell_type": "code",
   "execution_count": 97,
   "id": "5f82a3c3",
   "metadata": {},
   "outputs": [
    {
     "name": "stdout",
     "output_type": "stream",
     "text": [
      "1\n"
     ]
    }
   ],
   "source": [
    "nineteen_eightyfour = pd.DataFrame(data[data['Year'] == 1984]['Sport'].unique())\n",
    "twenty_sixteen = pd.DataFrame(data[data['Year'] == 2016]['Sport'].unique())\n",
    "res = abs(nineteen_eightyfour.count() - twenty_sixteen.count())\n",
    "print(res[0])"
   ]
  },
  {
   "cell_type": "markdown",
   "id": "a203e4e1",
   "metadata": {},
   "source": [
    "__6. Calculate the basic statistics (mean, median, min, max, standard deviation) for the Age, Height, and Weight columns.\n",
    "Identify any outliers in the Weight column.__"
   ]
  },
  {
   "cell_type": "code",
   "execution_count": 26,
   "id": "63c2401f",
   "metadata": {},
   "outputs": [
    {
     "name": "stdout",
     "output_type": "stream",
     "text": [
      "\tAttributes of Age: \n",
      "Mean: 25.6, \n",
      "Median: 24.0, \n",
      "Max: 97.0, \n",
      "Min: 10.0, \n",
      "Std: 6.393560847032701\n",
      "\n",
      "\tAttributes of Height: \n",
      "Mean: 175.3, \n",
      "Median: 175.0, \n",
      "Max: 226.0, \n",
      "Min: 127.0, \n",
      "Std: 10.518462222678274\n",
      "\n",
      "\tAttributes of Weight: \n",
      "Mean: 70.7, \n",
      "Median: 70.0, \n",
      "Max: 214.0, \n",
      "Min: 25.0, \n",
      "Std: 14.348019999019845\n"
     ]
    }
   ],
   "source": [
    "mean_age = pd.DataFrame(data)['Age'].mean().round(1)\n",
    "mean_height = data['Height'].mean().round(1)\n",
    "mean_weight = data['Weight'].mean().round(1)\n",
    "median_age = data['Age'].median()\n",
    "median_height = data['Height'].median()\n",
    "median_weight = data['Weight'].median()\n",
    "max_age = data['Age'].max()\n",
    "max_height = data['Height'].max()\n",
    "max_weight = data['Weight'].max()\n",
    "min_age = data['Age'].min()\n",
    "min_height = data['Height'].min()\n",
    "min_weight = data['Weight'].min()\n",
    "std_age = data['Age'].std()\n",
    "std_height = data['Height'].std()\n",
    "std_weight = data['Weight'].std()\n",
    "print(f\"\\tAttributes of Age: \\nMean: {mean_age}, \\nMedian: {median_age}, \\nMax: {max_age}, \\nMin: {min_age}, \\nStd: {std_age}\")\n",
    "print(f\"\\n\\tAttributes of Height: \\nMean: {mean_height}, \\nMedian: {median_height}, \\nMax: {max_height}, \\nMin: {min_height}, \\nStd: {std_height}\")\n",
    "print(f\"\\n\\tAttributes of Weight: \\nMean: {mean_weight}, \\nMedian: {median_weight}, \\nMax: {max_weight}, \\nMin: {min_weight}, \\nStd: {std_weight}\")"
   ]
  },
  {
   "cell_type": "markdown",
   "id": "806c0c9f",
   "metadata": {},
   "source": [
    "__7. Find the amount of all medals won by Kazakhstan__"
   ]
  },
  {
   "cell_type": "code",
   "execution_count": 124,
   "id": "fa3001d6",
   "metadata": {},
   "outputs": [
    {
     "name": "stdout",
     "output_type": "stream",
     "text": [
      "77\n"
     ]
    }
   ],
   "source": [
    "kz = data[data['Team'] == 'Kazakhstan']['Medal'].dropna()\n",
    "print(kz.count())"
   ]
  },
  {
   "cell_type": "markdown",
   "id": "13e019f5",
   "metadata": {},
   "source": [
    "__8. Identify Kazakhstan's most successful Olympic Games__"
   ]
  },
  {
   "cell_type": "code",
   "execution_count": 120,
   "id": "5fcb1929",
   "metadata": {},
   "outputs": [
    {
     "name": "stdout",
     "output_type": "stream",
     "text": [
      "   Year  Medal\n",
      "9  2016     18\n",
      "9  2016     18\n"
     ]
    }
   ],
   "source": [
    "kz = data[(data['Team'] == 'Kazakhstan') & (data['Medal'].notna())]\n",
    "most = pd.DataFrame(kz).groupby('Year')['Medal'].count().reset_index()\n",
    "\n",
    "print(most.loc[most.idxmax()])"
   ]
  },
  {
   "cell_type": "markdown",
   "id": "fc4ef85a",
   "metadata": {},
   "source": [
    "__9. How many times did Michael Fred Phelps win different medals in the Olympics held in different years?__"
   ]
  },
  {
   "cell_type": "code",
   "execution_count": 91,
   "id": "eae4ba5f",
   "metadata": {},
   "outputs": [
    {
     "data": {
      "text/html": [
       "<div>\n",
       "<style scoped>\n",
       "    .dataframe tbody tr th:only-of-type {\n",
       "        vertical-align: middle;\n",
       "    }\n",
       "\n",
       "    .dataframe tbody tr th {\n",
       "        vertical-align: top;\n",
       "    }\n",
       "\n",
       "    .dataframe thead th {\n",
       "        text-align: right;\n",
       "    }\n",
       "</style>\n",
       "<table border=\"1\" class=\"dataframe\">\n",
       "  <thead>\n",
       "    <tr style=\"text-align: right;\">\n",
       "      <th></th>\n",
       "      <th>Year</th>\n",
       "      <th>Medal</th>\n",
       "      <th>Count</th>\n",
       "    </tr>\n",
       "  </thead>\n",
       "  <tbody>\n",
       "    <tr>\n",
       "      <th>0</th>\n",
       "      <td>2004</td>\n",
       "      <td>Bronze</td>\n",
       "      <td>2</td>\n",
       "    </tr>\n",
       "    <tr>\n",
       "      <th>1</th>\n",
       "      <td>2004</td>\n",
       "      <td>Gold</td>\n",
       "      <td>6</td>\n",
       "    </tr>\n",
       "    <tr>\n",
       "      <th>2</th>\n",
       "      <td>2008</td>\n",
       "      <td>Gold</td>\n",
       "      <td>8</td>\n",
       "    </tr>\n",
       "    <tr>\n",
       "      <th>3</th>\n",
       "      <td>2012</td>\n",
       "      <td>Gold</td>\n",
       "      <td>4</td>\n",
       "    </tr>\n",
       "    <tr>\n",
       "      <th>4</th>\n",
       "      <td>2012</td>\n",
       "      <td>Silver</td>\n",
       "      <td>2</td>\n",
       "    </tr>\n",
       "    <tr>\n",
       "      <th>5</th>\n",
       "      <td>2016</td>\n",
       "      <td>Gold</td>\n",
       "      <td>5</td>\n",
       "    </tr>\n",
       "    <tr>\n",
       "      <th>6</th>\n",
       "      <td>2016</td>\n",
       "      <td>Silver</td>\n",
       "      <td>1</td>\n",
       "    </tr>\n",
       "  </tbody>\n",
       "</table>\n",
       "</div>"
      ],
      "text/plain": [
       "   Year   Medal  Count\n",
       "0  2004  Bronze      2\n",
       "1  2004    Gold      6\n",
       "2  2008    Gold      8\n",
       "3  2012    Gold      4\n",
       "4  2012  Silver      2\n",
       "5  2016    Gold      5\n",
       "6  2016  Silver      1"
      ]
     },
     "execution_count": 91,
     "metadata": {},
     "output_type": "execute_result"
    }
   ],
   "source": [
    "mfp = data[(data['Name'] == 'Michael Fred Phelps, II') & (data['Medal'].notna())].groupby(['Year','Medal']).size().reset_index(name =  'Count')\n",
    "mfp"
   ]
  },
  {
   "cell_type": "code",
   "execution_count": null,
   "id": "7341d182-e15d-4959-9b55-eb27562035b0",
   "metadata": {},
   "outputs": [],
   "source": []
  }
 ],
 "metadata": {
  "kernelspec": {
   "display_name": "Python 3 (ipykernel)",
   "language": "python",
   "name": "python3"
  },
  "language_info": {
   "codemirror_mode": {
    "name": "ipython",
    "version": 3
   },
   "file_extension": ".py",
   "mimetype": "text/x-python",
   "name": "python",
   "nbconvert_exporter": "python",
   "pygments_lexer": "ipython3",
   "version": "3.12.4"
  }
 },
 "nbformat": 4,
 "nbformat_minor": 5
}
